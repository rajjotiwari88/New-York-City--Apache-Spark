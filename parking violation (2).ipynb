{
 "cells": [
  {
   "cell_type": "markdown",
   "metadata": {},
   "source": [
    "# SPARK ASSIGNMENT: NYC Parking Ticket Violation"
   ]
  },
  {
   "cell_type": "code",
   "execution_count": 1,
   "metadata": {},
   "outputs": [],
   "source": [
    "#setting up environment variable\n",
    "\n",
    "import os\n",
    "import sys\n",
    "os.environ[\"PYSPARK_PYTHON\"] = \"/opt/cloudera/parcels/Anaconda/bin/python\"\n",
    "os.environ[\"JAVA_HOME\"] = \"/usr/java/jdk1.8.0_232-cloudera/jre\"\n",
    "os.environ[\"SPARK_HOME\"]=\"/opt/cloudera/parcels/SPARK2-2.3.0.cloudera2-1.cdh5.13.3.p0.316101/lib/spark2/\"\n",
    "os.environ[\"PYLIB\"] = os.environ[\"SPARK_HOME\"] + \"/python/lib\"\n",
    "sys.path.insert(0, os.environ[\"PYLIB\"] +\"/py4j-0.10.6-src.zip\")\n",
    "sys.path.insert(0, os.environ[\"PYLIB\"] +\"/pyspark.zip\")"
   ]
  },
  {
   "cell_type": "code",
   "execution_count": 2,
   "metadata": {},
   "outputs": [
    {
     "data": {
      "text/html": [
       "\n",
       "            <div>\n",
       "                <p><b>SparkSession - hive</b></p>\n",
       "                \n",
       "        <div>\n",
       "            <p><b>SparkContext</b></p>\n",
       "\n",
       "            <p><a href=\"http://ip-10-0-0-210.ec2.internal:4040\">Spark UI</a></p>\n",
       "\n",
       "            <dl>\n",
       "              <dt>Version</dt>\n",
       "                <dd><code>v2.3.0.cloudera2</code></dd>\n",
       "              <dt>Master</dt>\n",
       "                <dd><code>local</code></dd>\n",
       "              <dt>AppName</dt>\n",
       "                <dd><code>Ticket_Violation</code></dd>\n",
       "            </dl>\n",
       "        </div>\n",
       "        \n",
       "            </div>\n",
       "        "
      ],
      "text/plain": [
       "<pyspark.sql.session.SparkSession at 0x7fb340908190>"
      ]
     },
     "execution_count": 2,
     "metadata": {},
     "output_type": "execute_result"
    }
   ],
   "source": [
    "#creating a spark session\n",
    "\n",
    "from pyspark.sql import SparkSession\n",
    "\n",
    "spark = SparkSession.builder.appName('Ticket_Violation').master('local').getOrCreate()\n",
    "\n",
    "spark"
   ]
  },
  {
   "cell_type": "code",
   "execution_count": 3,
   "metadata": {},
   "outputs": [],
   "source": [
    "#Loading data into Spark Dataframe\n",
    "\n",
    "s3path = 's3a://upgrad-data/Parking_Violation_Tickets.csv'\n",
    "tickets = spark.read.format(\"csv\").option(\"header\", \"true\").load(s3path)"
   ]
  },
  {
   "cell_type": "code",
   "execution_count": 4,
   "metadata": {},
   "outputs": [
    {
     "name": "stdout",
     "output_type": "stream",
     "text": [
      "+--------------+--------+------------------+----------+----------+--------------+-----------------+------------+--------------+------------+------------+------------+-----------------------+------------------+------------------+---------------+-----------+--------------+------------+--------------+-------------------+----------------+---------------------------------+------------+--------------------+-------------------+-------------------+-----------+------------+--------------------+--------------------------+--------------------+------------------+-------------+---------------------+------------+------------+--------------+-------------------+---------------------+---------------------------------+-----------------+------------------------+\n",
      "|Summons Number|Plate ID|Registration State|Plate Type|Issue Date|Violation Code|Vehicle Body Type|Vehicle Make|Issuing Agency|Street Code1|Street Code2|Street Code3|Vehicle Expiration Date|Violation Location|Violation Precinct|Issuer Precinct|Issuer Code|Issuer Command|Issuer Squad|Violation Time|Time First Observed|Violation County|Violation In Front Of Or Opposite|House Number|         Street Name|Intersecting Street|Date First Observed|Law Section|Sub Division|Violation Legal Code|Days Parking In Effect    |From Hours In Effect|To Hours In Effect|Vehicle Color|Unregistered Vehicle?|Vehicle Year|Meter Number|Feet From Curb|Violation Post Code|Violation Description|No Standing or Stopping Violation|Hydrant Violation|Double Parking Violation|\n",
      "+--------------+--------+------------------+----------+----------+--------------+-----------------+------------+--------------+------------+------------+------------+-----------------------+------------------+------------------+---------------+-----------+--------------+------------+--------------+-------------------+----------------+---------------------------------+------------+--------------------+-------------------+-------------------+-----------+------------+--------------------+--------------------------+--------------------+------------------+-------------+---------------------+------------+------------+--------------+-------------------+---------------------+---------------------------------+-----------------+------------------------+\n",
      "|    5092469481| GZH7067|                NY|       PAS|07/10/2016|             7|             SUBN|       TOYOT|             V|           0|           0|           0|                      0|              null|                 0|              0|          0|          null|        null|         0143A|               null|              BX|                             null|        null|ALLERTON AVE (W/B) @|         BARNES AVE|                  0|       1111|           D|                   T|                      null|                null|              null|           GY|                 null|        2001|        null|             0|               null| FAILURE TO STOP A...|                             null|             null|                    null|\n",
      "|    5092451658| GZH7067|                NY|       PAS|07/08/2016|             7|             SUBN|       TOYOT|             V|           0|           0|           0|                      0|              null|                 0|              0|          0|          null|        null|         0400P|               null|              BX|                             null|        null|ALLERTON AVE (W/B) @|         BARNES AVE|                  0|       1111|           D|                   T|                      null|                null|              null|           GY|                 null|        2001|        null|             0|               null| FAILURE TO STOP A...|                             null|             null|                    null|\n",
      "|    4006265037| FZX9232|                NY|       PAS|08/23/2016|             5|             SUBN|        FORD|             V|           0|           0|           0|                      0|              null|                 0|              0|          0|          null|        null|         0233P|               null|              BX|                             null|        null|SB WEBSTER AVE @ E 1|            94TH ST|                  0|       1111|           C|                   T|                      null|                null|              null|           BK|                 null|        2004|        null|             0|               null|   BUS LANE VIOLATION|                             null|             null|                    null|\n",
      "|    8478629828| 66623ME|                NY|       COM|06/14/2017|            47|             REFG|       MITSU|             T|       10610|       34330|       34350|               20180630|              0014|                14|             14|     359594|          T102|           J|         1120A|               null|              NY|                                O|         330|             7th Ave|               null|                  0|        408|          l2|                null|                         Y|               0700A|             0700P|           WH|                 null|        2007|        null|             0|                 04| 47-Double PKG-Mid...|                             null|             null|                    null|\n",
      "|    7868300310| 37033JV|                NY|       COM|11/21/2016|            69|             DELV|       INTER|             T|       10510|       34310|       34330|               20170228|              0013|                13|             13|     364832|          T102|           M|         0555P|               null|              NY|                                F|         799|             6th Ave|               null|                  0|        408|          h1|                null|                         Y|               0700A|             0700P|        WHITE|                 null|        2007|        null|             0|               31 6| 69-Failure to Dis...|                             null|             null|                    null|\n",
      "|    5096917368| FZD8593|                NY|       PAS|06/13/2017|             7|             SUBN|       ME/BE|             V|           0|           0|           0|                      0|              null|                 0|              0|          0|          null|        null|         0852P|               null|              QN|                             null|        null| NORTHERN BLVD (E/B)|    @ MARATHON PKWY|                  0|       1111|           D|                   T|                      null|                null|              null|           WH|                 null|        2012|        null|             0|               null| FAILURE TO STOP A...|                             null|             null|                    null|\n",
      "|    1413609545|  X20DCM|                NJ|       PAS|08/03/2016|            40|              SDN|       TOYOT|             P|       54070|       39430|       54930|                      0|              0071|                71|             71|     960290|          0071|        0000|         0215A|               null|               K|                                F|         439|            KINGSTON|               null|                  0|        408|          C3|                null|                   BBBBBBB|                 ALL|               ALL|        WHITE|                    0|           0|           -|             1|               null|                 null|                             null|             null|                    null|\n",
      "|    4628525523|  326SF9|                MA|       PAS|12/21/2016|            36|               UT|         BMW|             V|           0|           0|           0|                      0|              null|                 0|              0|          0|          null|        null|         0758A|               null|              BX|                             null|        null|EB E GUN HILL RD @ B|          ARNES AVE|                  0|       1180|           B|                   T|                      null|                null|              null|         null|                 null|        2001|        null|             0|               null| PHTO SCHOOL ZN SP...|                             null|             null|                    null|\n",
      "|    4627113330| HCA5464|                NY|       OMS|11/21/2016|            36|             SUBN|       DODGE|             V|           0|           0|           0|                      0|              null|                 0|              0|          0|          null|        null|         1005A|               null|              QN|                             null|        null|NB BAISLEY BLVD @ 15|             5TH ST|                  0|       1180|           B|                   T|                      null|                null|              null|           BK|                 null|        2016|        null|             0|               null| PHTO SCHOOL ZN SP...|                             null|             null|                    null|\n",
      "|    4006478550| VAD7274|                VA|       PAS|10/05/2016|             5|               4D|         BMW|             V|           0|           0|           0|                      0|              null|                 0|              0|          0|          null|        null|         0845A|               null|              BX|                             null|        null|SB WEBSTER AVE @ E 2|            04TH ST|                  0|       1111|           C|                   T|                      null|                null|              null|          BLK|                 null|        2008|        null|             0|               null|   BUS LANE VIOLATION|                             null|             null|                    null|\n",
      "|    1407740258| 2513JMG|                NY|       COM|01/11/2017|            78|             DELV|       FRUEH|             P|           0|       40404|       40404|               20161130|               106|               106|            106|     960979|          0106|        0000|         0015A|               null|               Q|                             null|         126|          ST 115 AVE|               null|                  0|        408|          E2|                null|                   BBBBBBB|                 ALL|               ALL|        WHITE|                    0|        2015|           -|             0|               null|                 null|                             null|             null|                    null|\n",
      "|    8009901763| 13657MD|                NY|       COM|09/27/2016|            19|             DELV|       KENWO|             T|       10510|       34870|       34890|               20170331|              0018|                18|             18|     357355|          T400|           A|         0707A|               null|              NY|                                O|        1365|             6th Ave|               null|                  0|        408|          c3|                null|                   YYYYYYY|                null|              null|           RD|                 null|        2013|        null|             0|               01 9| 19-No Stand (bus ...|                             null|             null|                    null|\n",
      "|    4625926610|N102911C|                NY|       OMT|10/27/2016|            36|              VAN|        FORD|             V|           0|           0|           0|                      0|              null|                 0|              0|          0|          null|        null|         1022A|               null|              QN|                             null|        null|EB HORACE HARDING EX|PRESSWAY @ PECK AVE|                  0|       1180|           B|                   T|                      null|                null|              null|           WH|                 null|        2008|        null|             0|               null| PHTO SCHOOL ZN SP...|                             null|             null|                    null|\n",
      "|    1416492320| FGR5997|                NY|       PAS|09/30/2016|            21|              SDN|       NISSA|             P|       53620|       74250|       74260|               20170303|              0044|                44|             44|     905733|          0044|        0000|         1150A|               null|              BX|                                F|        1224|          NELSON AVE|               null|                  0|        408|          F1|                null|                   BYBBYBB|               1130A|             0100P|          TAN|                    0|           0|           -|             0|               null|                 null|                             null|             null|                    null|\n",
      "|    1413656420|T672371C|                NY|       PAS|02/04/2017|            40|             TAXI|       TOYOT|             P|       59630|       73470|       82230|               20170531|              0073|                73|             73|     960758|          0073|        0000|         0525A|               null|               K|                                F|         279|         MCDOUGAL ST|               null|                  0|        408|          F1|                null|                   BBBBBBB|                 ALL|               ALL|          BLK|                    0|        2015|           -|             0|               null|                 null|                             null|             null|                    null|\n",
      "|    7959486440| GYF2052|                NY|       PAS|07/07/2016|            71|             4DSD|       VOLKS|             T|       70407|       17390|       48890|               20170527|               120|               120|            120|     356557|          T303|           E|         0645P|               null|               R|                                F|         143|     N St Austins Pl|               null|                  0|        408|          j6|                null|                      null|                null|              null|           GY|                 null|        2012|        null|             0|               C-PM| 71-Insp. Sticker ...|                             null|             null|                    null|\n",
      "|    5093620865| AD80228|                AZ|       PAS|09/24/2016|             7|               TK|        FORD|             V|           0|           0|           0|                      0|              null|                 0|              0|          0|          null|        null|         1122A|               null|              QN|                             null|        null|SO CONDUIT AVE (E/B)|          @ 89TH ST|                  0|       1111|           D|                   T|                      null|                null|              null|         null|                 null|        2009|        null|             0|               null| FAILURE TO STOP A...|                             null|             null|                    null|\n",
      "|    8480309064| 51771JW|                NY|       COM|01/26/2017|            64|              VAN|       INTER|             T|       17850|       10210|       10110|               88888888|              0017|                17|             17|     363557|          T102|           L|         0256P|               null|              NY|                                F|         204|           E 43rd St|               null|                  0|        408|          C8|                null|                   YYYYYYY|                null|              null|        BROWN|                 null|        2007|        null|             0|                 06| 64-No STD Ex Con/...|                             null|             null|                    null|\n",
      "|    1416638830|  GLP367|                NY|       PAS|04/30/2017|            20|             SUBN|       DODGE|             P|       17650|       10110|       10010|               20180304|              0017|                17|             17|     940179|          0017|        0000|         1232A|               null|              NY|                                O|         330|             E 33 ST|               null|                  0|        408|          E2|                null|                   YYYYYYY|               1200A|             1159P|          BLK|                    0|        2009|           -|             0|               null|                 null|                             null|             null|                    null|\n",
      "|    4630524241|  HJBP29|                FL|       PAS|02/03/2017|            36|               4D|         BMW|             V|           0|           0|           0|                      0|              null|                 0|              0|          0|          null|        null|         1034A|               null|              BK|                             null|        null|WB LINDEN BLVD @ SCH|           ENCK AVE|                  0|       1180|           B|                   T|                      null|                null|              null|          SIL|                 null|        2009|        null|             0|               null| PHTO SCHOOL ZN SP...|                             null|             null|                    null|\n",
      "+--------------+--------+------------------+----------+----------+--------------+-----------------+------------+--------------+------------+------------+------------+-----------------------+------------------+------------------+---------------+-----------+--------------+------------+--------------+-------------------+----------------+---------------------------------+------------+--------------------+-------------------+-------------------+-----------+------------+--------------------+--------------------------+--------------------+------------------+-------------+---------------------+------------+------------+--------------+-------------------+---------------------+---------------------------------+-----------------+------------------------+\n",
      "only showing top 20 rows\n",
      "\n"
     ]
    }
   ],
   "source": [
    "#Dataframe at a glance\n",
    "\n",
    "tickets.show()"
   ]
  },
  {
   "cell_type": "markdown",
   "metadata": {},
   "source": [
    "# Questions to Be Answered in the Analysis\n",
    "## Examine the data\n",
    "### 1.Find the total number of tickets for the year 2017."
   ]
  },
  {
   "cell_type": "code",
   "execution_count": 5,
   "metadata": {},
   "outputs": [],
   "source": [
    "#Importing all the Spark Sql functions\n",
    "\n",
    "from pyspark.sql.functions import *"
   ]
  },
  {
   "cell_type": "code",
   "execution_count": 6,
   "metadata": {},
   "outputs": [
    {
     "name": "stdout",
     "output_type": "stream",
     "text": [
      "+------------------+-------------------+--------------+-----------------+------------+\n",
      "|Registration State|         Issue Date|Violation Code|Vehicle Body Type|Vehicle Make|\n",
      "+------------------+-------------------+--------------+-----------------+------------+\n",
      "|                NY|2017-06-14 00:00:00|            47|             REFG|       MITSU|\n",
      "|                NY|2017-06-13 00:00:00|             7|             SUBN|       ME/BE|\n",
      "|                NY|2017-01-11 00:00:00|            78|             DELV|       FRUEH|\n",
      "|                NY|2017-02-04 00:00:00|            40|             TAXI|       TOYOT|\n",
      "|                NY|2017-01-26 00:00:00|            64|              VAN|       INTER|\n",
      "|                NY|2017-04-30 00:00:00|            20|             SUBN|       DODGE|\n",
      "|                FL|2017-02-03 00:00:00|            36|               4D|         BMW|\n",
      "|                NY|2017-05-27 00:00:00|            38|              VAN|       CHEVR|\n",
      "|                NY|2017-05-31 00:00:00|            14|             TRAC|       VOLVO|\n",
      "|                NY|2017-05-26 00:00:00|            75|             4DSD|       DODGE|\n",
      "|                NY|2017-05-19 00:00:00|            10|             DELV|         HIN|\n",
      "|                NY|2017-06-09 00:00:00|            69|              VAN|        FORD|\n",
      "|                NJ|2017-01-20 00:00:00|            21|             4DSD|       CHEVR|\n",
      "|                NY|2017-04-13 00:00:00|            38|             UTIL|         GMC|\n",
      "|                NY|2017-01-05 00:00:00|            48|             DELV|       INTER|\n",
      "|                NJ|2017-02-18 00:00:00|            21|             SUBN|       ME/BE|\n",
      "|                VA|2017-06-14 00:00:00|            21|             4DSD|        AUDI|\n",
      "|                NJ|2017-01-29 00:00:00|            68|             4DSD|       NISSA|\n",
      "|                NY|2017-01-25 00:00:00|            51|              VAN|        FORD|\n",
      "|                NY|2017-06-12 00:00:00|             9|             SUBN|       TOYOT|\n",
      "+------------------+-------------------+--------------+-----------------+------------+\n",
      "only showing top 20 rows\n",
      "\n"
     ]
    }
   ],
   "source": [
    "#Filtering the dataframe, keeping only entries made for 2017.\n",
    "\n",
    "pattern = 'MM/dd/yyyy'\n",
    "\n",
    "tickets2017=tickets.select('Registration State','Issue Date','Violation Code','Vehicle Body Type','Vehicle Make')\\\n",
    ".withColumn('Issue Date', unix_timestamp(tickets['Issue Date'], pattern).cast('timestamp')).filter(year('Issue Date')==2017)\n",
    "\n",
    "tickets2017.show()"
   ]
  },
  {
   "cell_type": "code",
   "execution_count": 7,
   "metadata": {},
   "outputs": [
    {
     "data": {
      "text/plain": [
       "5431918"
      ]
     },
     "execution_count": 7,
     "metadata": {},
     "output_type": "execute_result"
    }
   ],
   "source": [
    "#Assuming there are no null values in the dataframe.\n",
    "#Using count method to calculate the total number of tickets for the year 2017\n",
    "\n",
    "tickets2017.count()"
   ]
  },
  {
   "cell_type": "markdown",
   "metadata": {},
   "source": [
    "Total number of tickets for the year 2017 is 5431918"
   ]
  },
  {
   "cell_type": "markdown",
   "metadata": {},
   "source": [
    "### 2.Find out the number of unique states from where the cars that got parking tickets came."
   ]
  },
  {
   "cell_type": "code",
   "execution_count": 8,
   "metadata": {},
   "outputs": [
    {
     "data": {
      "text/plain": [
       "65"
      ]
     },
     "execution_count": 8,
     "metadata": {},
     "output_type": "execute_result"
    }
   ],
   "source": [
    "#Using select and distinct to find the unique 'Registartion State' entries.\n",
    "\n",
    "tickets2017.select('Registration State').distinct().count()"
   ]
  },
  {
   "cell_type": "markdown",
   "metadata": {},
   "source": [
    "There are 65 distinct values of Registration State."
   ]
  },
  {
   "cell_type": "markdown",
   "metadata": {},
   "source": [
    "*There is a numeric entry '99' in the column, which should be corrected. Replace it with the state having the maximum entries. Provide the number of unique states again."
   ]
  },
  {
   "cell_type": "code",
   "execution_count": 9,
   "metadata": {},
   "outputs": [
    {
     "name": "stdout",
     "output_type": "stream",
     "text": [
      "+------------------+-------+\n",
      "|Registration State|  count|\n",
      "+------------------+-------+\n",
      "|                NY|4273951|\n",
      "|                NJ| 475825|\n",
      "|                PA| 140286|\n",
      "|                CT|  70403|\n",
      "|                FL|  69468|\n",
      "|                IN|  45525|\n",
      "|                MA|  38941|\n",
      "|                VA|  34367|\n",
      "|                MD|  30213|\n",
      "|                NC|  27152|\n",
      "|                TX|  18827|\n",
      "|                IL|  18666|\n",
      "|                GA|  17537|\n",
      "|                99|  16055|\n",
      "|                AZ|  12379|\n",
      "|                OH|  12281|\n",
      "|                CA|  12153|\n",
      "|                ME|  10806|\n",
      "|                SC|  10395|\n",
      "|                MN|  10083|\n",
      "+------------------+-------+\n",
      "only showing top 20 rows\n",
      "\n"
     ]
    }
   ],
   "source": [
    "#Finding the state having maximum entry.\n",
    "\n",
    "tickets2017.groupBy('Registration State').count().orderBy('count', ascending = False).show()"
   ]
  },
  {
   "cell_type": "code",
   "execution_count": 10,
   "metadata": {},
   "outputs": [
    {
     "data": {
      "text/plain": [
       "64"
      ]
     },
     "execution_count": 10,
     "metadata": {},
     "output_type": "execute_result"
    }
   ],
   "source": [
    "#Since NY has the maximum entry, replacing '99' with NY state and counting number of unique states again.\n",
    "\n",
    "tickets2017.select('Registration State').withColumn('Registration State',when(tickets2017[\"Registration State\"]==\"99\",lit('NY'))\\\n",
    "                       .otherwise(tickets2017[\"Registration State\"])).distinct().count()"
   ]
  },
  {
   "cell_type": "markdown",
   "metadata": {},
   "source": [
    "There are 64 distinct values of Registration State after replacing '99' by NY"
   ]
  },
  {
   "cell_type": "markdown",
   "metadata": {},
   "source": [
    "### 3.Display the top 20 states with the most number of tickets along with their ticket count."
   ]
  },
  {
   "cell_type": "code",
   "execution_count": 11,
   "metadata": {},
   "outputs": [
    {
     "name": "stdout",
     "output_type": "stream",
     "text": [
      "+------------------+-------+\n",
      "|Registration State|  count|\n",
      "+------------------+-------+\n",
      "|                NY|4273951|\n",
      "|                NJ| 475825|\n",
      "|                PA| 140286|\n",
      "|                CT|  70403|\n",
      "|                FL|  69468|\n",
      "|                IN|  45525|\n",
      "|                MA|  38941|\n",
      "|                VA|  34367|\n",
      "|                MD|  30213|\n",
      "|                NC|  27152|\n",
      "|                TX|  18827|\n",
      "|                IL|  18666|\n",
      "|                GA|  17537|\n",
      "|                99|  16055|\n",
      "|                AZ|  12379|\n",
      "|                OH|  12281|\n",
      "|                CA|  12153|\n",
      "|                ME|  10806|\n",
      "|                SC|  10395|\n",
      "|                MN|  10083|\n",
      "+------------------+-------+\n",
      "only showing top 20 rows\n",
      "\n"
     ]
    }
   ],
   "source": [
    "#Displaying top 20 states with the most number of tickets along with their ticket count.\n",
    "\n",
    "tickets2017.groupBy('Registration State').count().orderBy('count', ascending = False).show()"
   ]
  },
  {
   "cell_type": "markdown",
   "metadata": {},
   "source": [
    "## Aggregation Tasks"
   ]
  },
  {
   "cell_type": "markdown",
   "metadata": {},
   "source": [
    "### 1.How often does each violation code occur? Display the frequency of the top five violation codes."
   ]
  },
  {
   "cell_type": "code",
   "execution_count": 12,
   "metadata": {},
   "outputs": [
    {
     "name": "stdout",
     "output_type": "stream",
     "text": [
      "+--------------+------+\n",
      "|Violation Code| count|\n",
      "+--------------+------+\n",
      "|            21|768087|\n",
      "|            36|662765|\n",
      "|            38|542079|\n",
      "|            14|476664|\n",
      "|            20|319646|\n",
      "+--------------+------+\n",
      "only showing top 5 rows\n",
      "\n"
     ]
    }
   ],
   "source": [
    "#Displaying the frequency of top five violation codes.\n",
    "\n",
    "tickets2017.groupBy('Violation Code').count().orderBy('count', ascending = False).show(5)"
   ]
  },
  {
   "cell_type": "markdown",
   "metadata": {},
   "source": [
    "The top five violations codes are 21, 36, 38, 14 and 20"
   ]
  },
  {
   "cell_type": "markdown",
   "metadata": {},
   "source": [
    "### 2.How often does each 'vehicle body type' get a parking ticket? How about the 'vehicle make'? Find the top 5 for both."
   ]
  },
  {
   "cell_type": "code",
   "execution_count": 13,
   "metadata": {},
   "outputs": [
    {
     "name": "stdout",
     "output_type": "stream",
     "text": [
      "+-----------------+-------+\n",
      "|Vehicle Body Type|  count|\n",
      "+-----------------+-------+\n",
      "|             SUBN|1883954|\n",
      "|             4DSD|1547312|\n",
      "|              VAN| 724029|\n",
      "|             DELV| 358984|\n",
      "|              SDN| 194197|\n",
      "+-----------------+-------+\n",
      "only showing top 5 rows\n",
      "\n"
     ]
    }
   ],
   "source": [
    "#Displaying frequency of parking tickets for each 'Vehicle Body Type'\n",
    "\n",
    "tickets2017.groupBy('Vehicle Body Type').count().orderBy('count', ascending = False).show(5)"
   ]
  },
  {
   "cell_type": "markdown",
   "metadata": {},
   "source": [
    "The top five vehicle body type that often get a parking ticket are SUBN, 4DSD, VAN, DELV and SDN"
   ]
  },
  {
   "cell_type": "code",
   "execution_count": 14,
   "metadata": {},
   "outputs": [
    {
     "name": "stdout",
     "output_type": "stream",
     "text": [
      "+------------+------+\n",
      "|Vehicle Make| count|\n",
      "+------------+------+\n",
      "|        FORD|636844|\n",
      "|       TOYOT|605291|\n",
      "|       HONDA|538884|\n",
      "|       NISSA|462017|\n",
      "|       CHEVR|356032|\n",
      "+------------+------+\n",
      "only showing top 5 rows\n",
      "\n"
     ]
    }
   ],
   "source": [
    "#Displaying frequency of parking tickets for each 'Vehicle Make'\n",
    "\n",
    "tickets2017.groupBy('Vehicle Make').count().orderBy('count', ascending = False).show(5)"
   ]
  },
  {
   "cell_type": "markdown",
   "metadata": {},
   "source": [
    "The top five vehicle bmake that often get a parking ticket are FORD, TOYOT, HONDA,NISSA and CHEVR"
   ]
  },
  {
   "cell_type": "markdown",
   "metadata": {},
   "source": [
    "### 3.Let’s try and find some seasonality in this data:\n",
    "\n",
    "a.First, divide the year into 4 seasons, and find the frequencies of tickets for each season."
   ]
  },
  {
   "cell_type": "code",
   "execution_count": 15,
   "metadata": {},
   "outputs": [
    {
     "name": "stdout",
     "output_type": "stream",
     "text": [
      "+------------------+--------------+------+\n",
      "|Registration State|Violation Code|Season|\n",
      "+------------------+--------------+------+\n",
      "|                NY|            47|Summer|\n",
      "|                NY|             7|Summer|\n",
      "|                NY|            78|Winter|\n",
      "|                NY|            40|Winter|\n",
      "|                NY|            64|Winter|\n",
      "|                NY|            20|Spring|\n",
      "|                FL|            36|Winter|\n",
      "|                NY|            38|Spring|\n",
      "|                NY|            14|Spring|\n",
      "|                NY|            75|Spring|\n",
      "|                NY|            10|Spring|\n",
      "|                NY|            69|Summer|\n",
      "|                NJ|            21|Winter|\n",
      "|                NY|            38|Spring|\n",
      "|                NY|            48|Winter|\n",
      "|                NJ|            21|Winter|\n",
      "|                VA|            21|Summer|\n",
      "|                NJ|            68|Winter|\n",
      "|                NY|            51|Winter|\n",
      "|                NY|             9|Summer|\n",
      "+------------------+--------------+------+\n",
      "only showing top 20 rows\n",
      "\n"
     ]
    }
   ],
   "source": [
    "#Creating a UDF to divide the year into four seasons as per the following code:\n",
    "# Month 1, 2 & 12 - winter\n",
    "# Month 3,4 & 5 - Spring\n",
    "# Month 6, 7 & 8 - Summer\n",
    "# Month 9,10 & 11 - Autumn\n",
    "\n",
    "add_season = udf(lambda date: 'Summer' if date.month in [6, 7, 8] else ('Winter' if date.month in [1, 2, 12] else ('Spring' if date.month in [3, 4, 5] else 'Autumn')))\n",
    "\n",
    "#Displaying the season categorization\n",
    "\n",
    "tickets_seasonWise=tickets2017.withColumn('Season', add_season('Issue Date')).select('Registration State', 'Violation Code', 'Season')\n",
    "\n",
    "tickets_seasonWise.show()\n"
   ]
  },
  {
   "cell_type": "code",
   "execution_count": 16,
   "metadata": {},
   "outputs": [
    {
     "name": "stdout",
     "output_type": "stream",
     "text": [
      "+------+-------+\n",
      "|Season|  count|\n",
      "+------+-------+\n",
      "|Spring|2873383|\n",
      "|Summer| 852866|\n",
      "|Autumn|    979|\n",
      "|Winter|1704690|\n",
      "+------+-------+\n",
      "\n"
     ]
    }
   ],
   "source": [
    "#Displaying the frequencies of tickets for each season using UDF.\n",
    "\n",
    "season_freq=tickets_seasonWise.select('Season').groupBy('Season').count()\n",
    "\n",
    "season_freq.show()"
   ]
  },
  {
   "cell_type": "markdown",
   "metadata": {},
   "source": [
    "The maximum violations are made in Spring season while the least violations are made in Autumn season."
   ]
  },
  {
   "cell_type": "markdown",
   "metadata": {},
   "source": [
    "b.Then, find the three most common violations for each of these seasons. "
   ]
  },
  {
   "cell_type": "code",
   "execution_count": 17,
   "metadata": {},
   "outputs": [
    {
     "name": "stdout",
     "output_type": "stream",
     "text": [
      "+--------------+------+\n",
      "|Violation Code| count|\n",
      "+--------------+------+\n",
      "|            21|402424|\n",
      "|            36|344834|\n",
      "|            38|271167|\n",
      "+--------------+------+\n",
      "only showing top 3 rows\n",
      "\n"
     ]
    }
   ],
   "source": [
    "# Displaying three most common violations for Spring\n",
    "\n",
    "tickets_seasonWise.filter(tickets_seasonWise['Season']=='Spring').select('Violation Code').groupBy('Violation Code')\\\n",
    ".count().orderBy('count', ascending=False).show(3)"
   ]
  },
  {
   "cell_type": "markdown",
   "metadata": {},
   "source": [
    "Most common violations made in Spring are 21, 36 and 38."
   ]
  },
  {
   "cell_type": "code",
   "execution_count": 18,
   "metadata": {},
   "outputs": [
    {
     "name": "stdout",
     "output_type": "stream",
     "text": [
      "+--------------+------+\n",
      "|Violation Code| count|\n",
      "+--------------+------+\n",
      "|            21|127352|\n",
      "|            36| 96663|\n",
      "|            38| 83518|\n",
      "+--------------+------+\n",
      "only showing top 3 rows\n",
      "\n"
     ]
    }
   ],
   "source": [
    "# Displaying three most common violations for Summer\n",
    "\n",
    "tickets_seasonWise.filter(tickets_seasonWise['Season']=='Summer').select('Violation Code').groupBy('Violation Code')\\\n",
    ".count().orderBy('count', ascending=False).show(3)"
   ]
  },
  {
   "cell_type": "markdown",
   "metadata": {},
   "source": [
    "Most common violations made in Summer are 21, 36 and 38."
   ]
  },
  {
   "cell_type": "code",
   "execution_count": 19,
   "metadata": {},
   "outputs": [
    {
     "name": "stdout",
     "output_type": "stream",
     "text": [
      "+--------------+------+\n",
      "|Violation Code| count|\n",
      "+--------------+------+\n",
      "|            21|238183|\n",
      "|            36|221268|\n",
      "|            38|187386|\n",
      "+--------------+------+\n",
      "only showing top 3 rows\n",
      "\n"
     ]
    }
   ],
   "source": [
    "# Displaying three most common violations for Winter\n",
    "\n",
    "tickets_seasonWise.filter(tickets_seasonWise['Season']=='Winter').select('Violation Code').groupBy('Violation Code')\\\n",
    ".count().orderBy('count', ascending=False).show(3)"
   ]
  },
  {
   "cell_type": "markdown",
   "metadata": {},
   "source": [
    "Most common violations made in Winter are 21, 36 and 38."
   ]
  },
  {
   "cell_type": "code",
   "execution_count": 20,
   "metadata": {},
   "outputs": [
    {
     "name": "stdout",
     "output_type": "stream",
     "text": [
      "+--------------+-----+\n",
      "|Violation Code|count|\n",
      "+--------------+-----+\n",
      "|            46|  231|\n",
      "|            21|  128|\n",
      "|            40|  116|\n",
      "+--------------+-----+\n",
      "only showing top 3 rows\n",
      "\n"
     ]
    }
   ],
   "source": [
    "# Displaying three most common violations for Autumn\n",
    "\n",
    "tickets_seasonWise.filter(tickets_seasonWise['Season']=='Autumn').select('Violation Code').groupBy('Violation Code')\\\n",
    ".count().orderBy('count', ascending=False).show(3)"
   ]
  },
  {
   "cell_type": "markdown",
   "metadata": {},
   "source": [
    "Contrary to other seasons most common violations made in Autumn are 46, 21 and 40."
   ]
  },
  {
   "cell_type": "markdown",
   "metadata": {},
   "source": [
    "### 4.The fines collected from all the instances of parking violation constitute a source of revenue for the NYC Police Department. Let’s take an example of estimating this for the three most commonly occurring codes:\n",
    "\n",
    "a.Find the total occurrences of the three most common violation codes."
   ]
  },
  {
   "cell_type": "code",
   "execution_count": 21,
   "metadata": {},
   "outputs": [
    {
     "name": "stdout",
     "output_type": "stream",
     "text": [
      "+--------------+------+\n",
      "|Violation Code| count|\n",
      "+--------------+------+\n",
      "|            21|768087|\n",
      "|            36|662765|\n",
      "|            38|542079|\n",
      "+--------------+------+\n",
      "only showing top 3 rows\n",
      "\n"
     ]
    }
   ],
   "source": [
    "#Total occurrences of the three most common 'Violation Codes'.\n",
    "\n",
    "common_violations=tickets2017.select('Violation Code').groupBy('Violation Code').count().orderBy('count', ascending=False)\n",
    "\n",
    "common_violations.show(3)"
   ]
  },
  {
   "cell_type": "markdown",
   "metadata": {},
   "source": [
    "The three most common 'Violation Codes' are 21, 36 and 38."
   ]
  },
  {
   "cell_type": "markdown",
   "metadata": {},
   "source": [
    "\n",
    "\n",
    "Then, visit the website:\n",
    "http://www1.nyc.gov/site/finance/vehicles/services-violation-codes.page\n",
    "It lists the fines associated with different violation codes. They’re divided into two categories: one for the highest-density locations in the city and the other for the rest of the city. For the sake of simplicity, take the average of the two.\n",
    "\n",
    "b.Using this information, find the total amount collected for each of the three violation codes with the maximum tickets. State the code that has the highest total collection (only based on the top 3 tickets)."
   ]
  },
  {
   "cell_type": "code",
   "execution_count": 22,
   "metadata": {},
   "outputs": [
    {
     "name": "stdout",
     "output_type": "stream",
     "text": [
      "+--------------+------+--------+\n",
      "|Violation Code| count|Avg_fine|\n",
      "+--------------+------+--------+\n",
      "|            21|768087|      65|\n",
      "|            36|662765|      50|\n",
      "|            38|542079|      50|\n",
      "+--------------+------+--------+\n",
      "only showing top 3 rows\n",
      "\n"
     ]
    }
   ],
   "source": [
    "#Average of fines as per the link given:\n",
    "\n",
    "# violation code   fine avg\n",
    "#    21              65\n",
    "#    36              50\n",
    "#    38              50\n",
    "\n",
    "#Adding Avg_fine column to common_violations dataframe.\n",
    "\n",
    "from pyspark.sql.functions import lit\n",
    "\n",
    "violations_avgFine=common_violations.withColumn('Avg_fine',when(common_violations['Violation Code'] ==21,lit(65))\\\n",
    "                         .when(common_violations['Violation Code'] ==36, lit(50))\\\n",
    "                         .when(common_violations['Violation Code'] ==38, lit(50))\\\n",
    "                         .otherwise('null'))\n",
    "\n",
    "violations_avgFine.show(3)"
   ]
  },
  {
   "cell_type": "markdown",
   "metadata": {},
   "source": [
    "The average fine for violation codes 21, 36 and 38 are 65, 50 and 50 respectively."
   ]
  },
  {
   "cell_type": "code",
   "execution_count": 23,
   "metadata": {},
   "outputs": [
    {
     "name": "stdout",
     "output_type": "stream",
     "text": [
      "+--------------+------+--------+--------------+\n",
      "|Violation Code| count|Avg_fine|Fine Collected|\n",
      "+--------------+------+--------+--------------+\n",
      "|            21|768087|      65|   4.9925655E7|\n",
      "|            36|662765|      50|    3.313825E7|\n",
      "|            38|542079|      50|    2.710395E7|\n",
      "+--------------+------+--------+--------------+\n",
      "only showing top 3 rows\n",
      "\n"
     ]
    }
   ],
   "source": [
    "#Displaying total fine collected for most common 'Vioaltion Code'\n",
    "\n",
    "violations_totalFine=violations_avgFine.withColumn('Fine Collected',violations_avgFine['count']*violations_avgFine['Avg_fine'])\\\n",
    "                                          .orderBy('Fine Collected', ascending=False)\n",
    "\n",
    "violations_totalFine.show(3)"
   ]
  },
  {
   "cell_type": "markdown",
   "metadata": {},
   "source": [
    "The code with highest total fine collection is 21"
   ]
  },
  {
   "cell_type": "markdown",
   "metadata": {},
   "source": [
    "c.Find the top 3 states that have the highest ticket revenue based on the top 3 violation codes alone. (Hint: Use the column 'Registration State'.)"
   ]
  },
  {
   "cell_type": "code",
   "execution_count": 24,
   "metadata": {},
   "outputs": [
    {
     "name": "stdout",
     "output_type": "stream",
     "text": [
      "+------------------+---------+\n",
      "|Registration State|sum(Fine)|\n",
      "+------------------+---------+\n",
      "|                NY| 79015600|\n",
      "|                NJ|  6571250|\n",
      "|                PA|  2969650|\n",
      "+------------------+---------+\n",
      "only showing top 3 rows\n",
      "\n"
     ]
    }
   ],
   "source": [
    "from pyspark.sql.types import IntegerType\n",
    "\n",
    "fine_for_each_Code=udf(lambda code: 65 if code==21 else (50), IntegerType() )\n",
    "\n",
    "\n",
    "tickets_seasonWise.select('Violation Code','Registration State').filter(tickets_seasonWise['Violation Code']\\\n",
    "                  .isin(21,36,38)).withColumn('Fine',fine_for_each_Code('Violation Code')).groupBy('Registration State')\\\n",
    "                  .sum('Fine').orderBy('sum(Fine)', ascending=False).show(3)"
   ]
  },
  {
   "cell_type": "markdown",
   "metadata": {},
   "source": [
    "The top three states with highest ticket revenue are NY, NJ and PA."
   ]
  },
  {
   "cell_type": "markdown",
   "metadata": {},
   "source": [
    "### 4.What can you intuitively infer from these findings?"
   ]
  },
  {
   "cell_type": "markdown",
   "metadata": {},
   "source": [
    "Based on the analysis, we found the following facts:\n",
    "\n",
    "1.Total number of tickets for the year 2017 is 5431918 <br>\n",
    "2.There are 64 distinct values of Registration State. <br>\n",
    "3.The three most common 'Violation Codes' are 21, 36 and 38.<br>\n",
    "4.The code with highest total fine collection is 21. <br>\n",
    "5.The top three states with highest ticket revenue are NY, NJ and PA. <br>\n",
    "\n",
    "Observations:\n",
    "\n",
    "1.It can be observed that a huge chunk of violations were made from January to June i.e Winter and Spring season. <br>\n",
    "2.We can also observe that there is a very sharp decline in the violations from July onwards i.e Summer and Autumn season. Autumn being the season with least number of violations. <br>\n",
    "3.Highest violation &collection was by Code-21(No parking where parking is not allowed by sign, street marking or traffic control device.) <br>\n",
    "<br>\n",
    "We can infer that in winter season due to haze and fog people tend to not see the 'NO' parking signs and end up getting tickets for the violations.\n",
    "\n",
    "We can also infer that fog/haze affect New York state the most.\n",
    "\n",
    "From all the observations we can also infer that people from New York and New Jersey don't have parking etiquettes as the maximum violations are parking violations (21,38,46 and 40) as opposed to other violations."
   ]
  },
  {
   "cell_type": "code",
   "execution_count": null,
   "metadata": {},
   "outputs": [],
   "source": []
  }
 ],
 "metadata": {
  "kernelspec": {
   "display_name": "Python 3",
   "language": "python",
   "name": "python3"
  },
  "language_info": {
   "codemirror_mode": {
    "name": "ipython",
    "version": 3
   },
   "file_extension": ".py",
   "mimetype": "text/x-python",
   "name": "python",
   "nbconvert_exporter": "python",
   "pygments_lexer": "ipython3",
   "version": "3.8.5"
  }
 },
 "nbformat": 4,
 "nbformat_minor": 2
}
